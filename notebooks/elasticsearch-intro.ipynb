{
 "cells": [
  {
   "cell_type": "markdown",
   "metadata": {
    "id": "DWQt9bKuzyOT"
   },
   "source": [
    "# IRSS Lab Session 2: Intro to ElasticSearch"
   ]
  },
  {
   "cell_type": "markdown",
   "metadata": {
    "id": "gMxLVHngzyOV"
   },
   "source": [
    "In this session you will learn:\n",
    "\n",
    "- a few basics on the `ElasticSearch` database\n",
    "- how to index a set of documents and how to ask simple queries about these documents\n",
    "- how to do this from `Python`\n",
    "- based on the previous, you will compute the boolean and tf-idf matrix for the toy corpus used in class"
   ]
  },
  {
   "cell_type": "markdown",
   "metadata": {
    "id": "7imRMz0wzyOW"
   },
   "source": [
    "## 1. ElasticSearch\n",
    "\n",
    "[ElasticSearch](https://www.elastic.co/) is a _NoSQL/document_ database with the capability of indexing and searching text documents. As a rough analogue, we can use the following table for the equivalence between ElasticSearch and a more classical relational database:\n",
    "\n",
    "| Relational DB | ElasticSearch |\n",
    "|---|---|\n",
    "| Database | Index |\n",
    "| Row / record | Document |\n",
    "| Column | Field |\n",
    "\n",
    "An index can be thought of as an optimized collection of documents and each document is a collection of fields, which are the key-value pairs that contain your data.\n",
    "\n",
    "`ElasticSearch` is a pretty big beast with many options. Luckily, there is much documentation, a few useful links are:\n",
    "\n",
    "- Here is the [full documentation](https://www.elastic.co/guide/en/elasticsearch/reference/current/index.html)\n",
    "- Intros you may want to have a look at:\n",
    "    - https://medium.com/expedia-group-tech/getting-started-with-elastic-search-6af62d7df8dd\n",
    "    - http://joelabrahamsson.com/elasticsearch-101\n",
    "- You found another one that you liked? Let us know."
   ]
  },
  {
   "cell_type": "markdown",
   "metadata": {
    "id": "HDLPESJXzyOW"
   },
   "source": [
    "## 2. Running ElasticSearch\n",
    "\n",
    "This database runs as a web service in a machine and can be accessed using a REST\n",
    "web API.\n",
    "\n",
    "The ElasticSearch binaries are in `/opt/elasticsearch-8.2.2/`.\n",
    "\n",
    "Depending on the disk space that you have available you can run directly the script that starts the\n",
    "database, so all the data will be stored in your user directory, or you can change the configuration\n",
    "of the database in order to use the space in `/tmp`. \n",
    "Also, security needs to be disabled (through the `xpack.security.enabled` configuration option) so make\n",
    "sure the line is found in the configuration file.\n",
    "\n",
    "```bash\n",
    "cp -r /opt/elasticsearch-8.2.2/config/ /tmp\n",
    "```\n",
    "\n",
    "Modify or add the following lines to `/tmp/config/elasticsearch.yml`:\n",
    "\n",
    "```\n",
    "path.data : /tmp/elastic_data\n",
    "path.logs : /tmp/elastic_logs\n",
    "xpack.security.enabled : false\n",
    "xpack.security.enrollment.enabled : false\n",
    "```\n",
    "\n",
    "Set the environment variable `ES_PATH_CONF` to point to the configuration files. Example (if using `tcsh`):\n",
    "\n",
    "```bash\n",
    "setenv ES_PATH_CONF /tmp/config\n",
    "```\n",
    "\n",
    "Now you can run ElasticSearch with:\n",
    "\n",
    "```bash\n",
    "/opt/elasticsearch-8.2.2/bin/elasticsearch\n",
    "```\n",
    "\n",
    "After a few seconds (and a lot of logging) the database will be up and running; you may need to hit return for the prompt to show up. To test whether `ElasticSearch` is working execute the code in the cell below. __The database needs to be running throughout the execution of this script, otherwise you will get a connection error.__"
   ]
  },
  {
   "cell_type": "code",
   "execution_count": null,
   "metadata": {
    "id": "XpULY78hzyOY",
    "outputId": "357be68e-a6ed-4b44-880b-6311ab70054a"
   },
   "outputs": [
    {
     "name": "stdout",
     "output_type": "stream",
     "text": [
      "(b'{\\n  \"name\" : \"985e558a15d5\",\\n  \"cluster_name\" : \"docker-cluster\",\\n  \"clu'\n",
      " b'ster_uuid\" : \"n981nZ6GRpiPUGqiQSZNVA\",\\n  \"version\" : {\\n    \"number\" : \"9'\n",
      " b'.1.5\",\\n    \"build_flavor\" : \"default\",\\n    \"build_type\" : \"docker\",\\n    '\n",
      " b'\"build_hash\" : \"90ee222e7e0136dd8ddbb34015538f3a00c129b7\",\\n    \"build_da'\n",
      " b'te\" : \"2025-10-02T22:07:12.966975992Z\",\\n    \"build_snapshot\" : false,\\n  '\n",
      " b'  \"lucene_version\" : \"10.2.2\",\\n    \"minimum_wire_compatibility_version\" '\n",
      " b': \"8.19.0\",\\n    \"minimum_index_compatibility_version\" : \"8.0.0\"\\n  },\\n  \"'\n",
      " b'tagline\" : \"You Know, for Search\"\\n}\\n')\n"
     ]
    }
   ],
   "source": [
    "from pprint import pprint\n",
    "import requests\n",
    "\n",
    "try:\n",
    "    resp = requests.get(\"http://localhost:9200/\")\n",
    "    pprint(resp.content)\n",
    "\n",
    "except Exception:\n",
    "    print(\"elasticsearch is not running\")"
   ]
  },
  {
   "cell_type": "markdown",
   "metadata": {
    "id": "PPzcxW4EzyOZ"
   },
   "source": [
    "If `ElasticSearch` is working you will see an answer from the server; otherwise you will see a message indicating that it is not running. You can try also throwing the URL http://localhost:9200 to your browser; you should get a similar answer."
   ]
  },
  {
   "cell_type": "markdown",
   "metadata": {
    "id": "vYwBEaF9zyOa"
   },
   "source": [
    "## 3. Indexing and querying\n",
    "\n",
    "`ElasticSearch` is a database that allows storing documents (tables do not need a predefined schema as in relational databases). Text in these documents can be processed so the queries extend beyond exact matches allowing complex queries, fuzzy matching and ranking documents respect to the actual match.\n",
    "\n",
    "These kinds of databases are behind search engines like Google Search or Bing.\n",
    "\n",
    "There are different ways of operating with ElasticSearch. It is deployed esentially as a web service with a REST API, so it can be accessed basically from any language with a library for operating with HTTP servers.\n",
    "\n",
    "We are going to use two python libraries for programming on top of ElasticSearch: `elasticsearch` and `elasticsearch-dsl`. Both provide access to ElasticSearch functionalities hiding and making more programming-friendly the interactions, the second one is more convenient for configurating and searching. Make sure both python libraries are installed to proceed with this session."
   ]
  },
  {
   "cell_type": "code",
   "execution_count": 2,
   "metadata": {
    "id": "p6FyK-rAzyOa",
    "outputId": "ae7715a6-d881-4cf5-ef5e-1e3115250a41"
   },
   "outputs": [
    {
     "name": "stdout",
     "output_type": "stream",
     "text": [
      "Requirement already satisfied: elasticsearch in /Users/marias/.local/lib/python3.12/site-packages (8.15.1)\n",
      "Requirement already satisfied: elastic-transport<9,>=8.13 in /Users/marias/.local/lib/python3.12/site-packages (from elasticsearch) (8.15.0)\n",
      "Requirement already satisfied: urllib3<3,>=1.26.2 in /opt/anaconda3/lib/python3.12/site-packages (from elastic-transport<9,>=8.13->elasticsearch) (2.2.2)\n",
      "Requirement already satisfied: certifi in /opt/anaconda3/lib/python3.12/site-packages (from elastic-transport<9,>=8.13->elasticsearch) (2024.6.2)\n",
      "Requirement already satisfied: elasticsearch-dsl in /Users/marias/.local/lib/python3.12/site-packages (8.15.3)\n",
      "Requirement already satisfied: python-dateutil in /opt/anaconda3/lib/python3.12/site-packages (from elasticsearch-dsl) (2.9.0.post0)\n",
      "Requirement already satisfied: typing-extensions in /opt/anaconda3/lib/python3.12/site-packages (from elasticsearch-dsl) (4.11.0)\n",
      "Requirement already satisfied: elasticsearch<9.0.0,>=8.0.0 in /Users/marias/.local/lib/python3.12/site-packages (from elasticsearch-dsl) (8.15.1)\n",
      "Requirement already satisfied: elastic-transport<9,>=8.13 in /Users/marias/.local/lib/python3.12/site-packages (from elasticsearch<9.0.0,>=8.0.0->elasticsearch-dsl) (8.15.0)\n",
      "Requirement already satisfied: six>=1.5 in /opt/anaconda3/lib/python3.12/site-packages (from python-dateutil->elasticsearch-dsl) (1.16.0)\n",
      "Requirement already satisfied: urllib3<3,>=1.26.2 in /opt/anaconda3/lib/python3.12/site-packages (from elastic-transport<9,>=8.13->elasticsearch<9.0.0,>=8.0.0->elasticsearch-dsl) (2.2.2)\n",
      "Requirement already satisfied: certifi in /opt/anaconda3/lib/python3.12/site-packages (from elastic-transport<9,>=8.13->elasticsearch<9.0.0,>=8.0.0->elasticsearch-dsl) (2024.6.2)\n"
     ]
    }
   ],
   "source": [
    "!pip3 install elasticsearch --user\n",
    "!pip3 install elasticsearch-dsl --user"
   ]
  },
  {
   "cell_type": "markdown",
   "metadata": {
    "id": "hgJSqwPJzyOa"
   },
   "source": [
    "We are only going to see the essential elements for developing the session but feel free to learn more."
   ]
  },
  {
   "cell_type": "markdown",
   "metadata": {
    "id": "IYbFciOuzyOa"
   },
   "source": [
    "To interact with ElasticSearch with need a client object of type `Elasticsearch`."
   ]
  },
  {
   "cell_type": "code",
   "execution_count": 3,
   "metadata": {
    "id": "nnMxBWblzyOb"
   },
   "outputs": [],
   "source": [
    "from elasticsearch import Elasticsearch\n",
    "\n",
    "client = Elasticsearch(\"http://localhost:9200\", request_timeout=1000)"
   ]
  },
  {
   "cell_type": "markdown",
   "metadata": {
    "id": "hW1iJwWRzyOb"
   },
   "source": [
    "With this client you have a connection for operating with Elastic search. Now we will create an index. There are index operations in each library, but the one in `elasticseach-dsl` is simpler to use."
   ]
  },
  {
   "cell_type": "code",
   "execution_count": null,
   "metadata": {
    "id": "ARRz6OigzyOb"
   },
   "outputs": [],
   "source": [
    "from elasticsearch_dsl import Index\n",
    "\n",
    "index = Index(\"test\", using=client)  # if it does not exist, it is created; if it does exist, then it connects"
   ]
  },
  {
   "cell_type": "markdown",
   "metadata": {
    "id": "lGQiXaBizyOb"
   },
   "source": [
    "First we will need some text to index, for testing purposes we are going to use the python library `loremipsum`. We will need to install it first if it is not installed already, uncomment the code in next cell if you need to install the library"
   ]
  },
  {
   "cell_type": "code",
   "execution_count": 5,
   "metadata": {
    "id": "XFi4DRwLzyOb",
    "outputId": "7730895e-bf52-406b-fbe9-24fdaf75a763"
   },
   "outputs": [
    {
     "name": "stdout",
     "output_type": "stream",
     "text": [
      "Requirement already satisfied: lorem in /Users/marias/.local/lib/python3.12/site-packages (0.1.1)\n"
     ]
    }
   ],
   "source": [
    "!pip3 install lorem --user  # Restart the kernel if you are not able to import the library in the next cell"
   ]
  },
  {
   "cell_type": "markdown",
   "metadata": {
    "id": "Pva5JuVNzyOc"
   },
   "source": [
    "Now we create some random paragraphs"
   ]
  },
  {
   "cell_type": "code",
   "execution_count": 7,
   "metadata": {
    "id": "oPOAdx_BzyOc",
    "outputId": "37671d3e-52b6-4631-d351-80903e6dd485"
   },
   "outputs": [
    {
     "name": "stdout",
     "output_type": "stream",
     "text": [
      "10\n",
      "Tempora quiquia magnam consectetur neque etincidunt. Velit amet est magnam. Adipisci dolore velit magnam adipisci. Ut sit numquam dolor. Quisquam labore porro est est magnam consectetur labore. Voluptatem neque dolorem quaerat. Non dolor consectetur ut aliquam dolore.\n"
     ]
    }
   ],
   "source": [
    "import lorem\n",
    "\n",
    "texts = [lorem.paragraph() for _ in range(10)]\n",
    "print(len(texts))\n",
    "print(texts[0])"
   ]
  },
  {
   "cell_type": "markdown",
   "metadata": {
    "id": "aFDlDtBGzyOc"
   },
   "source": [
    "Now we can index the paragraphs in ElasticSearch using the `index` method. The document is passed as a python dictionary with the `document` parameter. The keys of the dictionary will be the fields of the document, in this case we well have only one (`text`) -- here, we use this tag but could use anything we wanted to."
   ]
  },
  {
   "cell_type": "code",
   "execution_count": null,
   "metadata": {
    "id": "45Ik8JbgzyOc",
    "outputId": "c0875521-0ec9-4d26-dc40-11b2d701d208"
   },
   "outputs": [
    {
     "name": "stdout",
     "output_type": "stream",
     "text": [
      "Indexing new text: Tempora quiquia magnam consectetur neque etincidunt. Velit amet est ma ...\n",
      "Indexing new text: Quiquia est magnam sit. Amet voluptatem dolorem dolor quiquia numquam. ...\n",
      "Indexing new text: Voluptatem etincidunt quiquia quaerat non dolorem porro. Voluptatem co ...\n",
      "Indexing new text: Quaerat porro porro consectetur neque ipsum. Velit modi velit ut conse ...\n",
      "Indexing new text: Non quaerat velit modi. Labore neque non quiquia dolor dolorem. Est ei ...\n",
      "Indexing new text: Non voluptatem labore quaerat dolore neque. Quaerat velit etincidunt d ...\n",
      "Indexing new text: Ut quisquam sed velit sit neque. Dolore labore amet quisquam. Magnam e ...\n",
      "Indexing new text: Modi neque amet magnam voluptatem porro. Dolorem est quiquia sit quisq ...\n",
      "Indexing new text: Eius modi est voluptatem sed quiquia adipisci sed. Dolor ut sed dolor  ...\n",
      "Indexing new text: Non dolor quisquam dolorem modi ipsum. Consectetur dolor est labore nu ...\n"
     ]
    },
    {
     "data": {
      "text/plain": [
       "ObjectApiResponse({'_shards': {'total': 2, 'successful': 1, 'failed': 0}})"
      ]
     },
     "execution_count": 8,
     "metadata": {},
     "output_type": "execute_result"
    }
   ],
   "source": [
    "for t in texts:\n",
    "    client.index(index=\"test\", document={\"text\": t})\n",
    "    print(f\"Indexing new text: {t[:70]} ...\")\n",
    "client.indices.refresh(index=\"test\")"
   ]
  },
  {
   "cell_type": "markdown",
   "metadata": {
    "id": "ostA2iSwzyOc"
   },
   "source": [
    "In case we want to get all docs in the index, we can do the following:"
   ]
  },
  {
   "cell_type": "code",
   "execution_count": null,
   "metadata": {
    "id": "LtJ8MrYYzyOd",
    "outputId": "aeb28278-6c11-4018-fbbb-43a168b5997b"
   },
   "outputs": [
    {
     "name": "stdout",
     "output_type": "stream",
     "text": [
      "Got 10 hits:\n",
      "{'text': 'Tempora quiquia magnam consectetur neque etincidunt. Velit amet est '\n",
      "         'magnam. Adipisci dolore velit magnam adipisci. Ut sit numquam dolor. '\n",
      "         'Quisquam labore porro est est magnam consectetur labore. Voluptatem '\n",
      "         'neque dolorem quaerat. Non dolor consectetur ut aliquam dolore.'}\n",
      "{'text': 'Quiquia est magnam sit. Amet voluptatem dolorem dolor quiquia '\n",
      "         'numquam. Numquam est velit quisquam neque dolorem ipsum ut. Quaerat '\n",
      "         'amet dolorem ut sed quisquam. Dolor numquam voluptatem porro dolore '\n",
      "         'est. Consectetur non aliquam consectetur est etincidunt amet ut.'}\n",
      "{'text': 'Voluptatem etincidunt quiquia quaerat non dolorem porro. Voluptatem '\n",
      "         'consectetur quaerat amet aliquam etincidunt quisquam. Ut dolor porro '\n",
      "         'non modi. Etincidunt voluptatem adipisci eius modi magnam ipsum. Ut '\n",
      "         'porro ut dolorem modi modi. Eius voluptatem non modi aliquam non est '\n",
      "         'sed. Quaerat aliquam ipsum est quisquam. Eius sed dolorem non eius.'}\n",
      "{'text': 'Quaerat porro porro consectetur neque ipsum. Velit modi velit ut '\n",
      "         'consectetur magnam adipisci. Modi porro voluptatem tempora modi ut '\n",
      "         'dolore eius. Modi quaerat dolor modi. Amet sit magnam neque '\n",
      "         'etincidunt dolorem eius. Labore numquam non numquam. Ipsum quisquam '\n",
      "         'adipisci dolor eius sed. Voluptatem magnam non dolor eius voluptatem '\n",
      "         'quisquam. Etincidunt labore quaerat magnam numquam sed numquam. '\n",
      "         'Consectetur quiquia modi neque velit.'}\n",
      "{'text': 'Non quaerat velit modi. Labore neque non quiquia dolor dolorem. Est '\n",
      "         'eius est dolor adipisci ut. Etincidunt velit numquam dolore. Numquam '\n",
      "         'porro labore consectetur magnam. Modi dolore sit sed dolorem. Labore '\n",
      "         'neque magnam sit adipisci consectetur quisquam. Adipisci non labore '\n",
      "         'porro ut quaerat ut.'}\n",
      "{'text': 'Non voluptatem labore quaerat dolore neque. Quaerat velit etincidunt '\n",
      "         'dolore labore ut. Tempora adipisci sit est ipsum ut velit quaerat. '\n",
      "         'Modi quaerat velit modi est neque ut. Sed ipsum labore magnam amet. '\n",
      "         'Aliquam sed non est porro dolor ipsum numquam. Modi eius est '\n",
      "         'consectetur sed numquam magnam. Magnam modi quiquia quiquia adipisci '\n",
      "         'eius.'}\n",
      "{'text': 'Ut quisquam sed velit sit neque. Dolore labore amet quisquam. Magnam '\n",
      "         'est amet quiquia. Sit neque est quiquia adipisci sit non. Etincidunt '\n",
      "         'ut est adipisci aliquam. Consectetur quaerat quisquam ut quisquam '\n",
      "         'amet voluptatem ut. Amet tempora magnam quaerat sed est.'}\n",
      "{'text': 'Modi neque amet magnam voluptatem porro. Dolorem est quiquia sit '\n",
      "         'quisquam dolore. Numquam neque modi dolor modi numquam adipisci. '\n",
      "         'Magnam dolore sit ipsum. Eius non dolore magnam porro modi adipisci '\n",
      "         'amet. Tempora ut dolorem modi consectetur modi. Labore neque est '\n",
      "         'consectetur.'}\n",
      "{'text': 'Eius modi est voluptatem sed quiquia adipisci sed. Dolor ut sed '\n",
      "         'dolor quiquia quisquam etincidunt modi. Voluptatem labore eius '\n",
      "         'voluptatem ipsum. Modi non quisquam adipisci modi magnam. Modi '\n",
      "         'aliquam ut sed quaerat porro adipisci amet. Modi non est ipsum '\n",
      "         'consectetur dolorem ut etincidunt. Adipisci non adipisci sed. '\n",
      "         'Dolorem numquam dolor dolore numquam aliquam velit numquam. Dolor '\n",
      "         'quisquam quiquia sit voluptatem tempora consectetur quaerat. Modi '\n",
      "         'sed sit quiquia labore dolorem porro.'}\n",
      "{'text': 'Non dolor quisquam dolorem modi ipsum. Consectetur dolor est labore '\n",
      "         'numquam. Non labore est consectetur. Porro ut quiquia amet dolore '\n",
      "         'velit magnam neque. Labore ipsum velit modi. Porro velit ut modi. '\n",
      "         'Quiquia quaerat consectetur amet est aliquam sed. Voluptatem ut non '\n",
      "         'velit quaerat etincidunt ipsum.'}\n"
     ]
    }
   ],
   "source": [
    "# get all docs in index 'test'\n",
    "resp = client.search(index=\"test\", query={\"match_all\": {}})\n",
    "\n",
    "# print them\n",
    "print(f\"Got {resp['hits']['total']['value']} hits:\")\n",
    "for hit in resp[\"hits\"][\"hits\"]:\n",
    "    pprint(hit[\"_source\"])"
   ]
  },
  {
   "cell_type": "markdown",
   "metadata": {
    "id": "qB5KVkmLzyOd"
   },
   "source": [
    "We can also search for documents that contain a given keyword:"
   ]
  },
  {
   "cell_type": "code",
   "execution_count": null,
   "metadata": {
    "id": "GVNkBalqzyOd",
    "outputId": "e7d93fde-c2ac-4207-cf12-d05b5e42a595"
   },
   "outputs": [
    {
     "name": "stdout",
     "output_type": "stream",
     "text": [
      "Found 10 matches.\n",
      "\n",
      "ID: 8q5RxJkB0l4c1EM-1UP_\n",
      "Text: Voluptatem etincidunt quiquia quaerat non dolorem porro. Voluptatem consectetur quaerat amet aliquam etincidunt quisquam. Ut dolor porro non modi. Etincidunt voluptatem adipisci eius modi magnam ipsum. Ut porro ut dolorem modi modi. Eius voluptatem non modi aliquam non est sed. Quaerat aliquam ipsum est quisquam. Eius sed dolorem non eius.\n",
      "\n",
      "ID: 9K5RxJkB0l4c1EM-1kOH\n",
      "Text: Non quaerat velit modi. Labore neque non quiquia dolor dolorem. Est eius est dolor adipisci ut. Etincidunt velit numquam dolore. Numquam porro labore consectetur magnam. Modi dolore sit sed dolorem. Labore neque magnam sit adipisci consectetur quisquam. Adipisci non labore porro ut quaerat ut.\n",
      "\n",
      "ID: -a5RxJkB0l4c1EM-10Ot\n",
      "Text: Non dolor quisquam dolorem modi ipsum. Consectetur dolor est labore numquam. Non labore est consectetur. Porro ut quiquia amet dolore velit magnam neque. Labore ipsum velit modi. Porro velit ut modi. Quiquia quaerat consectetur amet est aliquam sed. Voluptatem ut non velit quaerat etincidunt ipsum.\n",
      "\n",
      "ID: -K5RxJkB0l4c1EM-10N2\n",
      "Text: Eius modi est voluptatem sed quiquia adipisci sed. Dolor ut sed dolor quiquia quisquam etincidunt modi. Voluptatem labore eius voluptatem ipsum. Modi non quisquam adipisci modi magnam. Modi aliquam ut sed quaerat porro adipisci amet. Modi non est ipsum consectetur dolorem ut etincidunt. Adipisci non adipisci sed. Dolorem numquam dolor dolore numquam aliquam velit numquam. Dolor quisquam quiquia sit voluptatem tempora consectetur quaerat. Modi sed sit quiquia labore dolorem porro.\n",
      "\n",
      "ID: 9a5RxJkB0l4c1EM-1kPH\n",
      "Text: Non voluptatem labore quaerat dolore neque. Quaerat velit etincidunt dolore labore ut. Tempora adipisci sit est ipsum ut velit quaerat. Modi quaerat velit modi est neque ut. Sed ipsum labore magnam amet. Aliquam sed non est porro dolor ipsum numquam. Modi eius est consectetur sed numquam magnam. Magnam modi quiquia quiquia adipisci eius.\n",
      "\n",
      "ID: 865RxJkB0l4c1EM-1kNE\n",
      "Text: Quaerat porro porro consectetur neque ipsum. Velit modi velit ut consectetur magnam adipisci. Modi porro voluptatem tempora modi ut dolore eius. Modi quaerat dolor modi. Amet sit magnam neque etincidunt dolorem eius. Labore numquam non numquam. Ipsum quisquam adipisci dolor eius sed. Voluptatem magnam non dolor eius voluptatem quisquam. Etincidunt labore quaerat magnam numquam sed numquam. Consectetur quiquia modi neque velit.\n",
      "\n",
      "ID: 8K5RxJkB0l4c1EM-1UMh\n",
      "Text: Tempora quiquia magnam consectetur neque etincidunt. Velit amet est magnam. Adipisci dolore velit magnam adipisci. Ut sit numquam dolor. Quisquam labore porro est est magnam consectetur labore. Voluptatem neque dolorem quaerat. Non dolor consectetur ut aliquam dolore.\n",
      "\n",
      "ID: 8a5RxJkB0l4c1EM-1UO_\n",
      "Text: Quiquia est magnam sit. Amet voluptatem dolorem dolor quiquia numquam. Numquam est velit quisquam neque dolorem ipsum ut. Quaerat amet dolorem ut sed quisquam. Dolor numquam voluptatem porro dolore est. Consectetur non aliquam consectetur est etincidunt amet ut.\n",
      "\n",
      "ID: 9q5RxJkB0l4c1EM-10MG\n",
      "Text: Ut quisquam sed velit sit neque. Dolore labore amet quisquam. Magnam est amet quiquia. Sit neque est quiquia adipisci sit non. Etincidunt ut est adipisci aliquam. Consectetur quaerat quisquam ut quisquam amet voluptatem ut. Amet tempora magnam quaerat sed est.\n",
      "\n",
      "ID: 965RxJkB0l4c1EM-10NC\n",
      "Text: Modi neque amet magnam voluptatem porro. Dolorem est quiquia sit quisquam dolore. Numquam neque modi dolor modi numquam adipisci. Magnam dolore sit ipsum. Eius non dolore magnam porro modi adipisci amet. Tempora ut dolorem modi consectetur modi. Labore neque est consectetur.\n"
     ]
    }
   ],
   "source": [
    "from elasticsearch_dsl import Search\n",
    "\n",
    "# the following search query specifies the field where we want to search\n",
    "s_obj = Search(using=client, index=\"test\")\n",
    "sq = s_obj.query(\"match\", text=\"non\")\n",
    "resp = sq.execute()\n",
    "\n",
    "print(f\"Found {len(resp)} matches.\")\n",
    "\n",
    "for hit in resp:\n",
    "    print(f\"\\nID: {hit.meta.id}\\nText: {hit.text}\")"
   ]
  },
  {
   "cell_type": "markdown",
   "metadata": {
    "id": "gBZSqNZ4zyOd"
   },
   "source": [
    "## 4. Counting words and docs\n",
    "\n",
    "`Elastic search` helps us to obtain the counts of words in each document. For example, the following code obtains the counts of words of a whole index by adding the counts of words obtained from each document through the functionality of `termvectors`. This function also allows us to get _document counts_ for computing tf-idf weights, by setting the `term_statistics` option to `True`."
   ]
  },
  {
   "cell_type": "code",
   "execution_count": 18,
   "metadata": {
    "id": "Mjmw3ee_zyOd"
   },
   "outputs": [],
   "source": [
    "from elasticsearch.helpers import scan\n",
    "from collections import Counter\n",
    "\n",
    "# Search for all the documents and query the list of (word, frequency) of each one\n",
    "# Totals are accumulated using a Counter for term frequencies\n",
    "word_counts = Counter()\n",
    "sc = scan(client, index=\"test\", query={\"query\": {\"match_all\": {}}})\n",
    "for s in sc:\n",
    "    tv = client.termvectors(index=\"test\", id=s[\"_id\"], fields=[\"text\"], term_statistics=True, positions=False)\n",
    "    if \"text\" in tv[\"term_vectors\"]:  # just in case some document has no field named 'text'\n",
    "        for t in tv[\"term_vectors\"][\"text\"][\"terms\"]:\n",
    "            word = t\n",
    "            count = tv[\"term_vectors\"][\"text\"][\"terms\"][t][\"term_freq\"]\n",
    "            word_counts.update({word: count})"
   ]
  },
  {
   "cell_type": "code",
   "execution_count": 19,
   "metadata": {
    "id": "20VwCDffzyOe",
    "outputId": "ae5da30d-0855-464e-b310-6b02c27f1beb"
   },
   "outputs": [
    {
     "data": {
      "text/plain": [
       "[('modi', 33),\n",
       " ('ut', 27),\n",
       " ('est', 26),\n",
       " ('magnam', 22),\n",
       " ('non', 22),\n",
       " ('consectetur', 20),\n",
       " ('quaerat', 20),\n",
       " ('adipisci', 19),\n",
       " ('dolor', 18),\n",
       " ('labore', 18),\n",
       " ('numquam', 18),\n",
       " ('voluptatem', 18),\n",
       " ('sed', 18),\n",
       " ('porro', 17),\n",
       " ('quiquia', 17),\n",
       " ('quisquam', 17),\n",
       " ('velit', 17),\n",
       " ('amet', 16),\n",
       " ('dolorem', 16),\n",
       " ('neque', 16),\n",
       " ('dolore', 14),\n",
       " ('ipsum', 14),\n",
       " ('eius', 14),\n",
       " ('etincidunt', 13),\n",
       " ('sit', 13),\n",
       " ('aliquam', 10),\n",
       " ('tempora', 6)]"
      ]
     },
     "execution_count": 19,
     "metadata": {},
     "output_type": "execute_result"
    }
   ],
   "source": [
    "# show word frequencies\n",
    "word_counts.most_common()"
   ]
  },
  {
   "cell_type": "markdown",
   "metadata": {
    "id": "q521qZPPzyOe"
   },
   "source": [
    "## 5. Proposed simple exercise\n",
    "\n",
    "To get more familiar with elasticsearch, we propose that you _generate the Boolean and tf-idf matrices_ for the toy example that we used in class. You will find 7 text documents that contain the toy documents with the materials for this session in the racó. The steps to follow are:\n",
    "\n",
    "- create an empty index\n",
    "- open each text document in the `toy-docs` folder provided, read its contents and add it to the index as a new document; your index should contain 7 documents after this\n",
    "- use the `termvectors` function to obtain term counts, generate Boolean and tf-idf matrices based on these counts.\n",
    "- double check that your results coincide with the numbers in theory slides\n",
    "\n",
    "For this toy corpus, you may build dense Boolean and TF-IDF matrices (e.g., using NumPy arrays).  Note, however, that for real datasets it would be necessary to store them as sparse matrices (e.g. in compressed row store format), which would use far less memory."
   ]
  },
  {
   "cell_type": "markdown",
   "metadata": {
    "id": "R2NSU5hAzyOe"
   },
   "source": [
    "## 6. Cleanup\n",
    "\n",
    "Finally, we remove the test index.."
   ]
  },
  {
   "cell_type": "code",
   "execution_count": 12,
   "metadata": {
    "id": "j1NTaRy6zyOe",
    "outputId": "cc774e64-bbf7-49c5-aa25-ee7dae628f0e"
   },
   "outputs": [
    {
     "data": {
      "text/plain": [
       "ObjectApiResponse({'acknowledged': True})"
      ]
     },
     "execution_count": 12,
     "metadata": {},
     "output_type": "execute_result"
    }
   ],
   "source": [
    "index.delete()"
   ]
  },
  {
   "cell_type": "code",
   "execution_count": null,
   "metadata": {},
   "outputs": [],
   "source": []
  }
 ],
 "metadata": {
  "colab": {
   "provenance": []
  },
  "kernelspec": {
   "display_name": "Lab4",
   "language": "python",
   "name": "python3"
  },
  "language_info": {
   "codemirror_mode": {
    "name": "ipython",
    "version": 3
   },
   "file_extension": ".py",
   "mimetype": "text/x-python",
   "name": "python",
   "nbconvert_exporter": "python",
   "pygments_lexer": "ipython3",
   "version": "3.12.11"
  },
  "latex_envs": {
   "LaTeX_envs_menu_present": true,
   "autoclose": false,
   "autocomplete": true,
   "bibliofile": "biblio.bib",
   "cite_by": "apalike",
   "current_citInitial": 1,
   "eqLabelWithNumbers": true,
   "eqNumInitial": 1,
   "hotkeys": {
    "equation": "Ctrl-E",
    "itemize": "Ctrl-I"
   },
   "labels_anchors": false,
   "latex_user_defs": false,
   "report_style_numbering": false,
   "user_envs_cfg": false
  },
  "toc": {
   "nav_menu": {
    "height": "135px",
    "width": "252px"
   },
   "number_sections": true,
   "sideBar": true,
   "skip_h1_title": false,
   "toc_cell": false,
   "toc_position": {},
   "toc_section_display": "block",
   "toc_window_display": false
  }
 },
 "nbformat": 4,
 "nbformat_minor": 4
}
