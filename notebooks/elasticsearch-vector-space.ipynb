{
 "cells": [
  {
   "cell_type": "markdown",
   "metadata": {},
   "source": [
    "# IRRS Lab Session 4: Implementing search in the vector space model"
   ]
  },
  {
   "cell_type": "markdown",
   "metadata": {},
   "source": [
    "In this session you will:\n",
    "\n",
    "- Continue to work with the `arxiv` repository from last session\n",
    "- Learn how to do atomic and compound search queries with ElasticSearch\n",
    "- Build an inverted index for the `arxiv` repository from last session (should fit in main memory)\n",
    "- Implement search in the vector space model and compare it with ElasticSearch built-in search mechanism\n",
    "- Compare different implementations of search"
   ]
  },
  {
   "cell_type": "markdown",
   "metadata": {},
   "source": [
    "## 1. Built-in search in ElasticSearch\n",
    "\n",
    "ElasticSearch provides a search mechanism to make queries against a database. \n",
    "In the next code snippet you can find examples on how to do this with an atomic query (single term)\n",
    "and a complex one with a so-called 'should' query (a type of OR) which admits weights in each term within the query."
   ]
  },
  {
   "cell_type": "code",
   "execution_count": 1,
   "metadata": {},
   "outputs": [],
   "source": [
    "from elasticsearch import Elasticsearch\n",
    "from pprint import pprint\n",
    "\n",
    "client = Elasticsearch(\"http://localhost:9200\", request_timeout=1000)"
   ]
  },
  {
   "cell_type": "markdown",
   "metadata": {},
   "source": [
    "#### Atomic query"
   ]
  },
  {
   "cell_type": "code",
   "execution_count": 2,
   "metadata": {},
   "outputs": [
    {
     "name": "stdout",
     "output_type": "stream",
     "text": [
      "Found 160 documents.\n",
      "id: 55222, score: 11.56, path: /tmp/arxiv/math.updates.on.arXiv.org/002825, text: A $(p,q,r)$-board that has $pq+pr+qr$ squares consists of a $(p,q)$-, a $(p,r)$-, and a $(q,r)$-rectangle. Let $S$ be the set of the squares. Consider a bijection $f : S \\to [1,pq+pr+qr]$. Firstly, for $1 \\le i \\le p$, let $x_i$ be the sum of all the $q+r$ integers in the $i$-th row of the $(p,q+r)$-rectangle. Secondly, for $1 \\le j \\le q$, let $y_j$ be the sum of all the $p+r$ integers in the $j$-th row of the $(q,p+r)$-rectangle. Finally, for $1\\le k\\le r$, let $z_k$ be the the sum of all the $p+q$ integers in the $k$-th row of the $(r,p+q)$-rectangle. Such an assignment is called a $(p,q,r)$-design if $\\{x_i : 1\\le i\\le p\\}=\\{c_1\\}$ for some constant $c_1$, $\\{y_j : 1\\le j\\le q\\}=\\{c_2\\}$ for some constant $c_2$, and $\\{z_k : 1\\le k\\le r\\}=\\{c_3\\}$ for some constant $c_3$. A $(p,q,r)$-board that admits a $(p,q,r)$-design is called (1) Cartesian magic if $c_1 = c_2 = c_3$ (which is equivalent to supermagic labeling of $K(p,q,r)$); (2) Cartesian bi-magic if $c_1$, $c_2$ and $c_3$ assume exactly 2 distinct values; (3) Cartesian tri-magic if $c_1$, $c_2$ and $c_3$ are all distinct. Thus, Cartesian magicness is a generalization of magic rectangles into 3-dimensional space. In this paper, we study the Cartesian magicness of various $(p,q,r)$-board by matrix approach involving magic squares or rectangles. In Section~2, we obtained sufficient conditions for certain $(p,q,r)$-boards to admit (or not admit) a Cartesian magic design. In particular, it is known that $K(p,p,p)$ is supermagic and thus every $(p,p,p)$-board is Cartesian magic. We gave a short and simpler proof that every $(p,p,p)$-board is Cartesian magic. In Sections~3 and~4, we obtained many necessary and (or) sufficient conditions for various $(p,q,r)$-boards to admit (or not admit) a Cartesion bi-magic and tri-magic design.\n",
      "id: 2979, score: 11.48, path: /tmp/arxiv/quant-ph.updates.on.arXiv.org/000650, text: We give a new algorithm for computing the robustness of magic - a measure of the utility of quantum states as a computational resource. Our work is motivated by the magic state model of fault-tolerant quantum computation. In this model, all unitaries belong to the Clifford group. Non-Clifford operations are effected by injecting non-stabiliser states, which are referred to as magic states in this context. Their robustness of magic measures the complexity of simulating the circuit using a classical Monte Carlo algorithm. It is closely related to the degree negativity that slows down Monte Carlo simulations through the infamous sign problem. Surprisingly, the robustness of magic is submultiplicative. This implies that the classical simulation overhead scales subexponentially with the number of injected magic states - better than a naive analysis would suggest. However, determining the robustness of n copies of a magic state is difficult, as its definition involves a convex optimisation problem in a 4^n-dimensional space. In this paper, we make use of inherent symmetries to reduce the problem to n dimensions. The total run-time of our algorithm, while still exponential in n, is super-polynomially faster than previously published methods. We provide a computer implementation and give the robustness of up to 10 copies of the most commonly used magic states. Guided by the exact results, we find an ansatz for approximate solutions that can be evaluated in polynomial time and yield rigorous upper bounds to the robustness. Technically, we use symmetries of the stabiliser polytope to connect the robustness of magic to the geometry of a low-dimensional convex polytope generated by certain signed quantum weight enumerators. As a by-product, we characterised the automorphism group of the stabiliser polytope, and, more generally, of projections onto complex projective 3-designs.\n",
      "id: 31127, score: 11.48, path: /tmp/arxiv/cond-mat.updates.on.arXiv.org/003482, text: When two monolayers of graphene are stacked with a small relative twist angle, the resulting band structure exhibits a remarkably flat pair of bands at a sequence of 'magic angles' where correlation effects can induce a host of exotic phases. Here, we study a class of related models of $n$-layered graphene with alternating relative twist angle $\\pm \\theta$ which exhibit magic angle flat bands coexisting with several Dirac dispersing bands at the Moir\\'e K point. Remarkably, we find that the Hamiltonian for the multilayer system can be mapped exactly to a set of decoupled bilayers at {\\it different} angles, revealing a remarkable hierarchy mathematically relating all these magic angles to the TBG case. For the trilayer case ($n = 3$), we show that the sequence of magic angle is obtained by multiplying the bilayer magic angles by $\\sqrt{2}$, whereas the quadrilayer case ($n = 4$) has two sequences of magic angles obtained by multiplying the bilayer magic angles by the golden ratio $\\varphi = (\\sqrt{5} + 1)/2 \\approx 1.62$ and its inverse. We also show that for larger $n$, we can tune the angle to obtain several narrow (almost flat) bands simultaneously and that for $n \\rightarrow \\infty$, there is a continuum of magic angles for $\\theta \\lesssim 2^o$. Furthermore, we show that tuning several perfectly flat bands for a small number of layers is possible if the coupling between different layers is different. The setup proposed here can be readily achieved by repeatedly applying the \"tear and stack\" method without the need of any extra tuning of the twist angle and has the advantage that the first magic angle is always larger than the bilayer case.\n",
      "id: 2309, score: 11.40, path: /tmp/arxiv/quant-ph.updates.on.arXiv.org/000677, text: We give a new algorithm for computing the robustness of magic - a measure of the utility of quantum states as a computational resource. Our work is motivated by the magic state model of fault-tolerant quantum computation. In this model, all unitaries belong to the Clifford group. Non-Clifford operations are effected by injecting non-stabiliser states, which are referred to as magic states in this context. The robustness of magic measures the complexity of simulating such a circuit using a classical Monte Carlo algorithm. It is closely related to the degree negativity that slows down Monte Carlo simulations through the infamous sign problem. Surprisingly, the robustness of magic is submultiplicative. This implies that the classical simulation overhead scales subexponentially with the number of injected magic states - better than a naive analysis would suggest. However, determining the robustness of n copies of a magic state is difficult, as its definition involves a convex optimisation problem in a 4^n-dimensional space. In this paper, we make use of inherent symmetries to reduce the problem to n dimensions. The total run-time of our algorithm, while still exponential in n, is super-polynomially faster than previously published methods. We provide a computer implementation and give the robustness of up to 10 copies of the most commonly used magic states. Guided by the exact results, we find a finite hierarchy of approximate solutions where each level can be evaluated in polynomial time and yields rigorous upper bounds to the robustness. Technically, we use symmetries of the stabiliser polytope to connect the robustness of magic to the geometry of a low-dimensional convex polytope generated by certain signed quantum weight enumerators. As a by-product, we characterised the automorphism group of the stabiliser polytope, and, more generally, of projections onto complex projective 3-designs.\n",
      "id: 2520, score: 10.98, path: /tmp/arxiv/quant-ph.updates.on.arXiv.org/001475, text: In the stabilizer circuit model of quantum computation, universality requires a resource known as magic. Here, we propose three new ways to quantify the magic of a quantum state using magic monotones, apply the monotones in the characterization of state conversions under stabilizer operations, and connect them with the classical simulation of quantum circuits. We first present a complete theory of these quantifiers for tensor products of single-qubit states, for which the monotones are all equal and all act multiplicatively, constituting the first qubit magic monotones to have this property. We use the monotones to establish several asymptotic and non-asymptotic bounds on state interconversion and distillation rates. We then relate our quantifiers directly to the runtime of classical simulation algorithms, showing that a large amount of magic is a necessary requirement for any quantum speedup. One of our classical simulation algorithms is a quasi-probability simulator with its runtime connected to a generalized notion of negativity, which is exponentially faster than all prior qubit quasi-probability simulation algorithms. We also introduce a new variant of the stabilizer rank simulation algorithm suitable for mixed states, while improving the runtime bounds for this class of simulations. Our work reveals interesting connections between quasi-probability and stabilizer rank simulators, which previously appeared to be unrelated. Generalizing the approach beyond the theory of magic states, we establish methods for the quantitative characterization of classical simulability for more general quantum resources, and use them in the resource theory of quantum coherence to connect the $\\ell_1$-norm of coherence with the simulation of free operations.\n"
     ]
    }
   ],
   "source": [
    "# define query\n",
    "atomic_query = {\"match\": {\"text\": \"magic\"}}\n",
    "\n",
    "# search\n",
    "response = client.search(index=\"arxiv\", query=atomic_query, track_total_hits=True)\n",
    "\n",
    "# show results\n",
    "# Print the results\n",
    "print(f\"Found {response['hits']['total']['value']} documents.\")\n",
    "for hit in response[\"hits\"][\"hits\"][:5]:\n",
    "    print(\n",
    "        f\"id: {hit['_id']}, score: {hit['_score']:.2f}, path: {hit['_source']['path']}, text: {hit['_source'].get('text')}\"\n",
    "    )"
   ]
  },
  {
   "cell_type": "markdown",
   "metadata": {},
   "source": [
    "#### Complex query with weights"
   ]
  },
  {
   "cell_type": "code",
   "execution_count": 3,
   "metadata": {},
   "outputs": [
    {
     "name": "stdout",
     "output_type": "stream",
     "text": [
      "\n",
      "query type with must clauses\n",
      "Found 24 documents.\n",
      "id: 44746, score: 19.07, path: /tmp/arxiv/astro-ph.updates.on.arXiv.org/006224, text: Context. PKS 1510-089 is a flat spectrum radio quasar strongly variable in the optical and GeV range. So far, very-high-energy (VHE) emission has been observed from this source during either long high states of optical and GeV activity or during short flares. Aims. We search for low-state VHE gamma-ray emission from PKS 1510-089. We aim to characterize and model the source in a broad-band context, which would provide a baseline over which high states and flares could be better understood. Methods. PKS 1510-089 has been monitored by the MAGIC telescopes since 2012. We use daily binned Fermi-LAT flux measurements of PKS 1510-089 to characterize the GeV emission and select the observation periods of MAGIC during low state of activity. For the selected times we compute the average radio, IR, optical, UV, X-ray and gamma-ray emission to construct a low-state spectral energy distribution of the source. The broadband emission is modelled within an External Compton scenario with a stationary emission region through which plasma and magnetic field are flowing. Results. The MAGIC telescopes collected 75 hrs of data during times when the Fermi-LAT flux measured above 1 GeV was below 3x10 -8 cm -2 s -1 , which is the threshold adopted for the definition of a low gamma-ray activity state. The data show a strongly significant (9.5{\\sigma}) VHE gamma-ray emission at the level of (4.27 +- 0.61 stat ) x 10 -12 cm -2 s -1 above 150 GeV, a factor 80 smaller than the highest flare observed so far from this object. Despite the lower flux, the spectral shape is consistent with earlier detections in the VHE band. The broad-band emission is compatible with the External Compton scenario assuming a large emission region located beyond the broad line region.\n",
      "id: 3244, score: 16.65, path: /tmp/arxiv/quant-ph.updates.on.arXiv.org/001133, text: We report several witness-parameterized families of bound-entangled probabilities. Two pertain to the $d=3$ (two-qutrit) and a third to the $d=4$ (two-ququart) subsets analyzed by Hiesmayr and L{\\\"o}ffler of \"magic\" simplices of Bell states that were introduced by Baumgartner, Hiesmayr and Narnhofer. The Hilbert-Schmidt probabilities of positive-partial-transpose (PPT) states--within which we search for bound-entangled states--are $\\frac{8 \\pi }{27 \\sqrt{3}} \\approx 0.537422$ ($d=3$) and $\\frac{1}{2}+\\frac{\\log \\left(2-\\sqrt{3}\\right)}{8 \\sqrt{3}} \\approx 0.404957$ ($d=4$). We obtain bound-entangled probabilities of $-\\frac{4}{9}+\\frac{4 \\pi }{27 \\sqrt{3}}+\\frac{\\log (3)}{6} \\approx 0.00736862$ and $\\frac{-204+7 \\log (7)+168 \\sqrt{3} \\cos ^{-1}\\left(\\frac{11}{14}\\right)}{1134} \\approx 0.00325613$ ($d=3$) and $\\frac{8 \\log (2)}{27}-\\frac{59}{288} \\approx 0.00051583$ and $\\frac{24 \\text{csch}^{-1}\\left(\\frac{8}{\\sqrt{17}}\\right)}{17 \\sqrt{17}}-\\frac{91}{544} \\approx 0.00218722$ ($d=4$). The families, encompassing these results, are parameterized using generalized Choi and Jafarizadeh-Behzadi-Akbari witnesses. In the $d=3$, analyses, we first utilized the mutually unbiased bases (MUB) test of Hiesmayr and L{\\\"o}ffler, and also the Choi $W^{(+)}$ test. The same bound-entangled probability was achieved with both--the sets (\"jagged islands\") detected having void intersection. Further, we examine generalized Horodecki states, as well as estimating PPT-probabilities of approximately 0.39339 (very well-fitted by $\\frac{7 \\pi}{25 \\sqrt{5}} \\approx 0.39338962$) and 0.115732 (conjecturally, $\\frac{1}{8}+\\frac{\\log \\left(3-\\sqrt{5}\\right)}{13 \\sqrt{5}} \\approx 0.115737$) for the original (8- [two-qutrit] and 15 [two-ququart]-dimensional) magic simplices themselves.\n",
      "id: 46967, score: 16.65, path: /tmp/arxiv/astro-ph.updates.on.arXiv.org/006926, text: PKS 1510-089 is a flat spectrum radio quasar strongly variable in the optical and GeV range. We search for low-state VHE gamma-ray emission from PKS 1510-089. We aim to characterize and model the source in a broad-band context, which would provide a baseline over which high states and flares could be better understood. We use daily binned Fermi-LAT flux measurements of PKS 1510-089 to characterize the GeV emission and select the observation periods of MAGIC during low state of activity. For the selected times we compute the average radio, IR, optical, UV, X-ray and gamma-ray emission to construct a low-state spectral energy distribution of the source. The broadband emission is modelled within an External Compton scenario with a stationary emission region through which plasma and magnetic field are flowing. We perform also the emission-model-independent calculations of the maximum absorption in the broad line region (BLR) using two different models. Results. The MAGIC telescopes collected 75 hrs of data during times when the Fermi-LAT flux measured above 1 GeV was below 3x10-8cm-2s-1, which is the threshold adopted for the definition of a low gamma-ray activity state. The data show a strongly significant (9.5{\\sigma}) VHE gamma-ray emission at the level of (4.27+-0.61stat)x10-12cm-2s-1 above 150GeV, a factor 80 smaller than the highest flare observed so far from this object. Despite the lower flux, the spectral shape is consistent with earlier detections in the VHE band. The broad-band emission is compatible with the EC scenario assuming a large emission region located beyond the BLR. For the first time the gamma-ray data allow us to place a limit on the location of the emission region during a low gamma-ray state of a FSRQ. For the used model of the BLR, the 95% C.L. on the location of the emission region allows us to place it at the distance >74% of the outer radius of the BLR.\n",
      "id: 52106, score: 16.65, path: /tmp/arxiv/math.updates.on.arXiv.org/004808, text: We report several witness-parameterized families of bound-entangled probabilities. Two pertain to the $d=3$ (two-qutrit) and a third to the $d=4$ (two-ququart) subsets analyzed by Hiesmayr and L{\\\"o}ffler of \"magic\" simplices of Bell states that were introduced by Baumgartner, Hiesmayr and Narnhofer. The Hilbert-Schmidt probabilities of positive-partial-transpose (PPT) states--within which we search for bound-entangled states--are $\\frac{8 \\pi }{27 \\sqrt{3}} \\approx 0.537422$ ($d=3$) and $\\frac{1}{2}+\\frac{\\log \\left(2-\\sqrt{3}\\right)}{8 \\sqrt{3}} \\approx 0.404957$ ($d=4$). We obtain bound-entangled probabilities of $-\\frac{4}{9}+\\frac{4 \\pi }{27 \\sqrt{3}}+\\frac{\\log (3)}{6} \\approx 0.00736862$ and $\\frac{-204+7 \\log (7)+168 \\sqrt{3} \\cos ^{-1}\\left(\\frac{11}{14}\\right)}{1134} \\approx 0.00325613$ ($d=3$) and $\\frac{8 \\log (2)}{27}-\\frac{59}{288} \\approx 0.00051583$ and $\\frac{24 \\text{csch}^{-1}\\left(\\frac{8}{\\sqrt{17}}\\right)}{17 \\sqrt{17}}-\\frac{91}{544} \\approx 0.00218722$ ($d=4$). The families, encompassing these results, are parameterized using generalized Choi and Jafarizadeh-Behzadi-Akbari witnesses. In the $d=3$, analyses, we first utilized the mutually unbiased bases (MUB) test of Hiesmayr and L{\\\"o}ffler, and also the Choi $W^{(+)}$ test. The same bound-entangled probability was achieved with both--the sets (\"jagged islands\") detected having void intersection. Further, we examine generalized Horodecki states, as well as estimating PPT-probabilities of approximately 0.39339 (very well-fitted by $\\frac{7 \\pi}{25 \\sqrt{5}} \\approx 0.39338962$) and 0.115732 (conjecturally, $\\frac{1}{8}+\\frac{\\log \\left(3-\\sqrt{5}\\right)}{13 \\sqrt{5}} \\approx 0.115737$) for the original (8- [two-qutrit] and 15 [two-ququart]-dimensional) magic simplices themselves.\n",
      "id: 57272, score: 16.65, path: /tmp/arxiv/math.updates.on.arXiv.org/004551, text: We report several witness-parameterized families of bound-entangled probabilities. Two pertain to the $d=3$ (two-qutrit) and a third to the $d=4$ (two-ququart) subsets analyzed by Hiesmayr and L{\\\"o}ffler of \"magic\" simplices of Bell states that were introduced by Baumgartner, Hiesmayr and Narnhofer. The Hilbert-Schmidt probabilities of positive-partial-transpose (PPT) states--within which we search for bound-entangled states--are $\\frac{8 \\pi }{27 \\sqrt{3}} \\approx 0.537422$ ($d=3$) and $\\frac{1}{24} \\left(12+\\sqrt{3} \\log \\left(2-\\sqrt{3}\\right)\\right) \\approx 0.404957$ ($d=4$). We obtain bound-entangled probabilities of $-\\frac{4}{9}+\\frac{4 \\pi }{27 \\sqrt{3}}+\\frac{\\log (3)}{6} \\approx 0.00736862$ and $\\frac{-204+7 \\log (7)+168 \\sqrt{3} \\cos ^{-1}\\left(\\frac{11}{14}\\right)}{1134} \\approx 0.00325613$ ($d=3$) and $\\frac{8 \\log (2)}{27}-\\frac{59}{288} \\approx 0.00051583$ and $\\frac{24 \\text{csch}^{-1}\\left(\\frac{8}{\\sqrt{17}}\\right)}{17 \\sqrt{17}}-\\frac{91}{544} \\approx 0.00218722$ ($d=4$). The families, encompassing these results, are parameterized using generalized Choi and Jafarizadeh-Behzadi-Akbari witnesses. In the $d=3$, analyses, we first utilized the mutually unbiased bases (MUB) test of Hiesmayr and L{\\\"o}ffler, and also the Choi $W^{(+)}$ test. The same bound-entangled probability was achieved with both--the sets detected having void intersection. The entanglement (bound and ``non-bound\"/``free\") probability for each was $\\frac{1}{6} \\approx 0.16667$. Further, we examine generalized Horodecki states, as well as estimating PPT-probabilities of approximately 0.39339 (very well-fitted by $\\frac{7 \\pi}{25 \\sqrt{5}} \\approx 0.39338962$) and 0.1157 for the original (8- [two-qutrit] and 15 [two-ququart]-dimensional) magic simplices themselves.\n",
      "id: 1879, score: 16.28, path: /tmp/arxiv/quant-ph.updates.on.arXiv.org/001665, text: We report several witness-parameterized families of bound-entangled probabilities. Two pertain to the $d=3$ (two-qutrit) and a third to the $d=4$ (two-ququart) subsets analyzed by Hiesmayr and L{\\\"o}ffler of \"magic\" simplices of Bell states. The Hilbert-Schmidt probabilities of positive-partial-transpose (PPT) states--within which we search for bound-entangled states--are $\\frac{8 \\pi }{27 \\sqrt{3}} \\approx 0.537422$ ($d=3$) and $\\frac{1}{2}+\\frac{\\log \\left(2-\\sqrt{3}\\right)}{8 \\sqrt{3}} \\approx 0.404957$ ($d=4$). We obtain bound-entangled probabilities of $-\\frac{4}{9}+\\frac{4 \\pi }{27 \\sqrt{3}}+\\frac{\\log (3)}{6} \\approx 0.00736862$ and $\\frac{-204+7 \\log (7)+168 \\sqrt{3} \\cos ^{-1}\\left(\\frac{11}{14}\\right)}{1134} \\approx 0.00325613$ ($d=3$) and $\\frac{8 \\log (2)}{27}-\\frac{59}{288} \\approx 0.00051583$ and $\\frac{24 \\text{csch}^{-1}\\left(\\frac{8}{\\sqrt{17}}\\right)}{17 \\sqrt{17}}-\\frac{91}{544} \\approx 0.00218722$ ($d=4$). Thus, the total entanglement probability appears to equal $(1-\\frac{8 \\pi }{27 \\sqrt{3}})+\\frac{2}{81} \\left(4 \\sqrt{3} \\pi -21\\right) = \\frac{13}{27} \\approx 0.481481$.) The families, encompassing these results, are parameterized using generalized Choi and Jafarizadeh-Behzadi-Akbari witnesses. The same bound-entangled probability was achieved with both--the sets (\"jagged islands\") detected having void intersection. The entanglement (bound and \"non-bound\"/\"free\") probability for both was $\\frac{1}{6} \\approx 0.16667$, while their union and intersection gave $\\frac{2}{9} \\approx 0.22222$ and $\\frac{1}{9} \\approx 0.11111$. Further, we examine generalized Horodecki states, as well as estimating PPT-probabilities of approximately 0.39339 (very well-fitted by $\\frac{7 \\pi}{25 \\sqrt{5}} \\approx 0.39338962$) and 0.115732 ( for the original (8- [two-qutrit] and 15 [two-ququart]-dimensional) magic simplices themselves.\n",
      "id: 51329, score: 16.28, path: /tmp/arxiv/math.updates.on.arXiv.org/006816, text: We report several witness-parameterized families of bound-entangled probabilities. Two pertain to the $d=3$ (two-qutrit) and a third to the $d=4$ (two-ququart) subsets analyzed by Hiesmayr and L{\\\"o}ffler of \"magic\" simplices of Bell states. The Hilbert-Schmidt probabilities of positive-partial-transpose (PPT) states--within which we search for bound-entangled states--are $\\frac{8 \\pi }{27 \\sqrt{3}} \\approx 0.537422$ ($d=3$) and $\\frac{1}{2}+\\frac{\\log \\left(2-\\sqrt{3}\\right)}{8 \\sqrt{3}} \\approx 0.404957$ ($d=4$). We obtain bound-entangled probabilities of $-\\frac{4}{9}+\\frac{4 \\pi }{27 \\sqrt{3}}+\\frac{\\log (3)}{6} \\approx 0.00736862$ and $\\frac{-204+7 \\log (7)+168 \\sqrt{3} \\cos ^{-1}\\left(\\frac{11}{14}\\right)}{1134} \\approx 0.00325613$ ($d=3$) and $\\frac{8 \\log (2)}{27}-\\frac{59}{288} \\approx 0.00051583$ and $\\frac{24 \\text{csch}^{-1}\\left(\\frac{8}{\\sqrt{17}}\\right)}{17 \\sqrt{17}}-\\frac{91}{544} \\approx 0.00218722$ ($d=4$). Thus, the total entanglement probability appears to equal $(1-\\frac{8 \\pi }{27 \\sqrt{3}})+\\frac{2}{81} \\left(4 \\sqrt{3} \\pi -21\\right) = \\frac{13}{27} \\approx 0.481481$.) The families, encompassing these results, are parameterized using generalized Choi and Jafarizadeh-Behzadi-Akbari witnesses. The same bound-entangled probability was achieved with both--the sets (\"jagged islands\") detected having void intersection. The entanglement (bound and \"non-bound\"/\"free\") probability for both was $\\frac{1}{6} \\approx 0.16667$, while their union and intersection gave $\\frac{2}{9} \\approx 0.22222$ and $\\frac{1}{9} \\approx 0.11111$. Further, we examine generalized Horodecki states, as well as estimating PPT-probabilities of approximately 0.39339 (very well-fitted by $\\frac{7 \\pi}{25 \\sqrt{5}} \\approx 0.39338962$) and 0.115732 ( for the original (8- [two-qutrit] and 15 [two-ququart]-dimensional) magic simplices themselves.\n",
      "id: 36725, score: 15.10, path: /tmp/arxiv/astro-ph.updates.on.arXiv.org/014944, text: In SETI, when searching for \"beacons\" -- transmissions intended for us and meant to get our attention -- one must guess the appropriate frequency to search by considering what frequencies would be universally obvious to other species. This is a well known concept in game theory, where such solutions to a non-communicative cooperative game (such as a mutual search) are called \"Schelling points.\" It is noteworthy, therefore, that when developing his eponymous units, Planck called them \"natural\" because they \"remain meaningful for all times and also for extraterrestrial and non-human cultures.\" Here, I apply Planck's suggestion in the context of Schelling points in SETI with a \"Planck Frequency Comb,\" constructed by multiplying the Planck energy by integer powers of the fine structure constant. This comb includes a small number of frequencies in regions of the electromagnetic spectrum where laser and radio SETI typically operates. Searches might proceed and individual teeth in the comb, or at many teeth at once, across the electromagnetic spectrum. Indeed, the latter strategy can be additionally justified by the transmitter's desire to signal at many frequencies at once, to improve the chances that the receiver will guess one of them correctly. There are many arbitrary and anthropocentric choices in this comb's construction, and indeed one can construct several different frequency combs with only minor and arbitrary modifications. This suggests that it may be fruitful to search for signals arriving in frequency combs of arbitrary spacing. And even though the frequencies suggested here are only debatably \"better\" than others proposed, the addition of the Planck Frequency Comb to the list of \"magic frequencies\" can only help searches for extraterrestrial beacons.\n",
      "id: 44011, score: 15.10, path: /tmp/arxiv/astro-ph.updates.on.arXiv.org/014913, text: In SETI, when searching for \"beacons\" -- transmissions intended for us and meant to get our attention -- one must guess the appropriate frequency to search by considering what frequencies would be universally obvious to other species. This is a well known concept in game theory, where such solutions to a non-communicative cooperative game (such as a mutual search) are called \"Schelling points.\" It is noteworthy, therefore, that when developing his eponymous units, Planck called them \"natural\" because they \"remain meaningful for all times and also for extraterrestrial and non-human cultures.\" Here, I apply Planck's suggestion in the context of Schelling points in SETI with a \"Planck Frequency Comb,\" constructed by multiplying the Planck energy by whole number multiples of the fine structure constant. This comb includes a small number of frequencies in regions of the electromagnetic spectrum where laser and radio SETI typically operates. Searches might proceed and individual teeth in the comb, or at many teeth at once, across the electromagnetic spectrum. Indeed, the latter strategy can be additionally justified by the transmitter's desire to signal at many frequencies at once, to improve the chances that the receiver will guess one of them correctly. There are many arbitrary and anthropocentric choices in this comb's construction, and indeed one can construct several different frequency combs with only minor and arbitrary modifications. This suggests that it may be fruitful to search for signals arriving in frequency combs of arbitrary spacing. And even though the frequencies suggested here are only debatably \"better\" than others proposed, the addition of the Planck Frequency Comb to the list of \"magic frequencies\" can only help searches for extraterrestrial beacons.\n",
      "id: 1106, score: 14.00, path: /tmp/arxiv/hep-ph.updates.on.arXiv.org/000052, text: The interference effects between an extra neutral spin-1 Z'-boson and the Standard Model background in the Drell-Yan channel at the LHC are studied in detail. The final state with two oppositely charged leptons is considered. The interference contribution to the new physics signal, currently neglected by experimental collaborations in Z'-searches and in the interpretation of the results, can be substantial. It may affect limits or discovery prospects of Z' at the LHC. As the Z'-boson interference is model-dependent, a proper treatment would a priori require a dedicated experimental analysis for each particular model. Doing so could potentially improve the sensitivity to new physics, but would require a much bigger effort from the experimental side. At the same time, it is shown that one can define an invariant mass window, valid for a wide range of models, for which the contribution of the model-dependent interference to the Beyond the Standard Model signal is reduced down to O(10%) level, comparable to the level of the combined uncertainty from parton densities and higher order corrections. This quasi-model independent \"magic cut\" does not scale with the mass of the Z'-boson and is approximately constant over a large range of masses. Such a control of the interference effects relies on not-too-small branching ratios of Z' to leptons which can be suppressed, however, by an additional new decay channels of the Z' increasing the interference effect. Under the general assumption that these new decay chanels of Z' are not dominant, one can perform quasi-model independent analyses, preserving the current scheme used by the experimental collaborations for the Z'-boson search using the suggested invariant mass window cut.\n",
      "\n",
      "query type with should clauses\n",
      "Found 3492 documents.\n",
      "id: 55222, score: 23.12, path: /tmp/arxiv/math.updates.on.arXiv.org/002825, text: A $(p,q,r)$-board that has $pq+pr+qr$ squares consists of a $(p,q)$-, a $(p,r)$-, and a $(q,r)$-rectangle. Let $S$ be the set of the squares. Consider a bijection $f : S \\to [1,pq+pr+qr]$. Firstly, for $1 \\le i \\le p$, let $x_i$ be the sum of all the $q+r$ integers in the $i$-th row of the $(p,q+r)$-rectangle. Secondly, for $1 \\le j \\le q$, let $y_j$ be the sum of all the $p+r$ integers in the $j$-th row of the $(q,p+r)$-rectangle. Finally, for $1\\le k\\le r$, let $z_k$ be the the sum of all the $p+q$ integers in the $k$-th row of the $(r,p+q)$-rectangle. Such an assignment is called a $(p,q,r)$-design if $\\{x_i : 1\\le i\\le p\\}=\\{c_1\\}$ for some constant $c_1$, $\\{y_j : 1\\le j\\le q\\}=\\{c_2\\}$ for some constant $c_2$, and $\\{z_k : 1\\le k\\le r\\}=\\{c_3\\}$ for some constant $c_3$. A $(p,q,r)$-board that admits a $(p,q,r)$-design is called (1) Cartesian magic if $c_1 = c_2 = c_3$ (which is equivalent to supermagic labeling of $K(p,q,r)$); (2) Cartesian bi-magic if $c_1$, $c_2$ and $c_3$ assume exactly 2 distinct values; (3) Cartesian tri-magic if $c_1$, $c_2$ and $c_3$ are all distinct. Thus, Cartesian magicness is a generalization of magic rectangles into 3-dimensional space. In this paper, we study the Cartesian magicness of various $(p,q,r)$-board by matrix approach involving magic squares or rectangles. In Section~2, we obtained sufficient conditions for certain $(p,q,r)$-boards to admit (or not admit) a Cartesian magic design. In particular, it is known that $K(p,p,p)$ is supermagic and thus every $(p,p,p)$-board is Cartesian magic. We gave a short and simpler proof that every $(p,p,p)$-board is Cartesian magic. In Sections~3 and~4, we obtained many necessary and (or) sufficient conditions for various $(p,q,r)$-boards to admit (or not admit) a Cartesion bi-magic and tri-magic design.\n",
      "id: 2979, score: 22.97, path: /tmp/arxiv/quant-ph.updates.on.arXiv.org/000650, text: We give a new algorithm for computing the robustness of magic - a measure of the utility of quantum states as a computational resource. Our work is motivated by the magic state model of fault-tolerant quantum computation. In this model, all unitaries belong to the Clifford group. Non-Clifford operations are effected by injecting non-stabiliser states, which are referred to as magic states in this context. Their robustness of magic measures the complexity of simulating the circuit using a classical Monte Carlo algorithm. It is closely related to the degree negativity that slows down Monte Carlo simulations through the infamous sign problem. Surprisingly, the robustness of magic is submultiplicative. This implies that the classical simulation overhead scales subexponentially with the number of injected magic states - better than a naive analysis would suggest. However, determining the robustness of n copies of a magic state is difficult, as its definition involves a convex optimisation problem in a 4^n-dimensional space. In this paper, we make use of inherent symmetries to reduce the problem to n dimensions. The total run-time of our algorithm, while still exponential in n, is super-polynomially faster than previously published methods. We provide a computer implementation and give the robustness of up to 10 copies of the most commonly used magic states. Guided by the exact results, we find an ansatz for approximate solutions that can be evaluated in polynomial time and yield rigorous upper bounds to the robustness. Technically, we use symmetries of the stabiliser polytope to connect the robustness of magic to the geometry of a low-dimensional convex polytope generated by certain signed quantum weight enumerators. As a by-product, we characterised the automorphism group of the stabiliser polytope, and, more generally, of projections onto complex projective 3-designs.\n",
      "id: 31127, score: 22.97, path: /tmp/arxiv/cond-mat.updates.on.arXiv.org/003482, text: When two monolayers of graphene are stacked with a small relative twist angle, the resulting band structure exhibits a remarkably flat pair of bands at a sequence of 'magic angles' where correlation effects can induce a host of exotic phases. Here, we study a class of related models of $n$-layered graphene with alternating relative twist angle $\\pm \\theta$ which exhibit magic angle flat bands coexisting with several Dirac dispersing bands at the Moir\\'e K point. Remarkably, we find that the Hamiltonian for the multilayer system can be mapped exactly to a set of decoupled bilayers at {\\it different} angles, revealing a remarkable hierarchy mathematically relating all these magic angles to the TBG case. For the trilayer case ($n = 3$), we show that the sequence of magic angle is obtained by multiplying the bilayer magic angles by $\\sqrt{2}$, whereas the quadrilayer case ($n = 4$) has two sequences of magic angles obtained by multiplying the bilayer magic angles by the golden ratio $\\varphi = (\\sqrt{5} + 1)/2 \\approx 1.62$ and its inverse. We also show that for larger $n$, we can tune the angle to obtain several narrow (almost flat) bands simultaneously and that for $n \\rightarrow \\infty$, there is a continuum of magic angles for $\\theta \\lesssim 2^o$. Furthermore, we show that tuning several perfectly flat bands for a small number of layers is possible if the coupling between different layers is different. The setup proposed here can be readily achieved by repeatedly applying the \"tear and stack\" method without the need of any extra tuning of the twist angle and has the advantage that the first magic angle is always larger than the bilayer case.\n",
      "id: 2309, score: 22.80, path: /tmp/arxiv/quant-ph.updates.on.arXiv.org/000677, text: We give a new algorithm for computing the robustness of magic - a measure of the utility of quantum states as a computational resource. Our work is motivated by the magic state model of fault-tolerant quantum computation. In this model, all unitaries belong to the Clifford group. Non-Clifford operations are effected by injecting non-stabiliser states, which are referred to as magic states in this context. The robustness of magic measures the complexity of simulating such a circuit using a classical Monte Carlo algorithm. It is closely related to the degree negativity that slows down Monte Carlo simulations through the infamous sign problem. Surprisingly, the robustness of magic is submultiplicative. This implies that the classical simulation overhead scales subexponentially with the number of injected magic states - better than a naive analysis would suggest. However, determining the robustness of n copies of a magic state is difficult, as its definition involves a convex optimisation problem in a 4^n-dimensional space. In this paper, we make use of inherent symmetries to reduce the problem to n dimensions. The total run-time of our algorithm, while still exponential in n, is super-polynomially faster than previously published methods. We provide a computer implementation and give the robustness of up to 10 copies of the most commonly used magic states. Guided by the exact results, we find a finite hierarchy of approximate solutions where each level can be evaluated in polynomial time and yields rigorous upper bounds to the robustness. Technically, we use symmetries of the stabiliser polytope to connect the robustness of magic to the geometry of a low-dimensional convex polytope generated by certain signed quantum weight enumerators. As a by-product, we characterised the automorphism group of the stabiliser polytope, and, more generally, of projections onto complex projective 3-designs.\n",
      "id: 2520, score: 21.96, path: /tmp/arxiv/quant-ph.updates.on.arXiv.org/001475, text: In the stabilizer circuit model of quantum computation, universality requires a resource known as magic. Here, we propose three new ways to quantify the magic of a quantum state using magic monotones, apply the monotones in the characterization of state conversions under stabilizer operations, and connect them with the classical simulation of quantum circuits. We first present a complete theory of these quantifiers for tensor products of single-qubit states, for which the monotones are all equal and all act multiplicatively, constituting the first qubit magic monotones to have this property. We use the monotones to establish several asymptotic and non-asymptotic bounds on state interconversion and distillation rates. We then relate our quantifiers directly to the runtime of classical simulation algorithms, showing that a large amount of magic is a necessary requirement for any quantum speedup. One of our classical simulation algorithms is a quasi-probability simulator with its runtime connected to a generalized notion of negativity, which is exponentially faster than all prior qubit quasi-probability simulation algorithms. We also introduce a new variant of the stabilizer rank simulation algorithm suitable for mixed states, while improving the runtime bounds for this class of simulations. Our work reveals interesting connections between quasi-probability and stabilizer rank simulators, which previously appeared to be unrelated. Generalizing the approach beyond the theory of magic states, we establish methods for the quantitative characterization of classical simulability for more general quantum resources, and use them in the resource theory of quantum coherence to connect the $\\ell_1$-norm of coherence with the simulation of free operations.\n",
      "id: 28712, score: 21.85, path: /tmp/arxiv/hep-th.updates.on.arXiv.org/000255, text: We introduce the extended Freudenthal-Rosenfeld-Tits magic square based on the six composition algebras: reals $\\mathbb{R}$, complexes $\\mathbb{C}$, ternions $\\mathbb{T}$, quaternions $\\mathbb{H}$, sextonions $\\mathbb{S}$ and octonions $\\mathbb{O}$. The ternionic and sextonionic rows/columns of the magic square yield non-reductive Lie algebras, including $\\mathfrak{e}_{7\\scriptscriptstyle{\\frac{1}{2}}}$. It is demonstrated that the algebras of the extended magic square appear quite naturally as the symmetries of supergravity Lagrangians. The sextonionic row (for appropriate choices of real forms) gives the non-compact global symmetries of the Lagrangian for $D=3$ maximal $\\mathcal{N}=16$, magic $\\mathcal{N}=4$ and magic non-supersymmetric theories, obtained by dimensionally reducing the $D=4$ parent theories on a circle, with the graviphoton left undualised. In particular, the extremal intermediate non-reductive Lie algebra $\\tilde{\\mathfrak{e}}_{7(7)\\scriptscriptstyle{\\frac{1}{2}}}$ (which is not a subalgebra of $\\mathfrak{e}_{8(8)}$) is the non-compact global symmetry algebra of $D=3$, $\\mathcal{N}=16$ supergravity as obtained by dimensionally reducing $D=4$, $\\mathcal{N}=8$ supergravity with $\\mathfrak{e}_{7(7)}$ symmetry on a circle. The ternionic row (for appropriate choices of real forms) gives the non-compact global symmetries of the Lagrangian for $D=4$ maximal $\\mathcal{N}=8$ and magic $\\mathcal{N}=2$ supergravities obtained by dimensionally reducing the parent $D=5$ maximal $\\mathcal{N}=8$ and magic $\\mathcal{N}=2$ theories on a circle. In particular, the Kantor-Koecher-Tits intermediate non-reductive Lie algebra $\\mathfrak{e}_{6(6)\\scriptscriptstyle{\\frac{1}{4}}}$ is the non-compact global symmetry algebra of $D=4$, $\\mathcal{N}=8$ supergravity as obtained by dimensionally reducing $D=5$, $\\mathcal{N}=8$ supergravity with $\\mathfrak{e}_{6(6)}$ symmetry on a circle.\n",
      "id: 28819, score: 21.85, path: /tmp/arxiv/hep-th.updates.on.arXiv.org/000265, text: We introduce the extended Freudenthal-Rosenfeld-Tits magic square based on six algebras: the reals $\\mathbb{R}$, complexes $\\mathbb{C}$, ternions $\\mathbb{T}$, quaternions $\\mathbb{H}$, sextonions $\\mathbb{S}$ and octonions $\\mathbb{O}$. The ternionic and sextonionic rows/columns of the magic square yield non-reductive Lie algebras, including $\\mathfrak{e}_{7\\scriptscriptstyle{\\frac{1}{2}}}$. It is demonstrated that the algebras of the extended magic square appear quite naturally as the symmetries of supergravity Lagrangians. The sextonionic row (for appropriate choices of real forms) gives the non-compact global symmetries of the Lagrangian for the $D=3$ maximal $\\mathcal{N}=16$, magic $\\mathcal{N}=4$ and magic non-supersymmetric theories, obtained by dimensionally reducing the $D=4$ parent theories on a circle, with the graviphoton left undualised. In particular, the extremal intermediate non-reductive Lie algebra $\\tilde{\\mathfrak{e}}_{7(7)\\scriptscriptstyle{\\frac{1}{2}}}$ (which is not a subalgebra of $\\mathfrak{e}_{8(8)}$) is the non-compact global symmetry algebra of $D=3$, $\\mathcal{N}=16$ supergravity as obtained by dimensionally reducing $D=4$, $\\mathcal{N}=8$ supergravity with $\\mathfrak{e}_{7(7)}$ symmetry on a circle. The ternionic row (for appropriate choices of real forms) gives the non-compact global symmetries of the Lagrangian for the $D=4$ maximal $\\mathcal{N}=8$, magic $\\mathcal{N}=2$ and magic non-supersymmetric theories obtained by dimensionally reducing the parent $D=5$ theories on a circle. In particular, the Kantor-Koecher-Tits intermediate non-reductive Lie algebra $\\mathfrak{e}_{6(6)\\scriptscriptstyle{\\frac{1}{4}}}$ is the non-compact global symmetry algebra of $D=4$, $\\mathcal{N}=8$ supergravity as obtained by dimensionally reducing $D=5$, $\\mathcal{N}=8$ supergravity with $\\mathfrak{e}_{6(6)}$ symmetry on a circle.\n",
      "id: 52286, score: 21.85, path: /tmp/arxiv/math.updates.on.arXiv.org/000896, text: We introduce the extended Freudenthal-Rosenfeld-Tits magic square based on the six composition algebras: reals $\\mathbb{R}$, complexes $\\mathbb{C}$, ternions $\\mathbb{T}$, quaternions $\\mathbb{H}$, sextonions $\\mathbb{S}$ and octonions $\\mathbb{O}$. The ternionic and sextonionic rows/columns of the magic square yield non-reductive Lie algebras, including $\\mathfrak{e}_{7\\scriptscriptstyle{\\frac{1}{2}}}$. It is demonstrated that the algebras of the extended magic square appear quite naturally as the symmetries of supergravity Lagrangians. The sextonionic row (for appropriate choices of real forms) gives the non-compact global symmetries of the Lagrangian for $D=3$ maximal $\\mathcal{N}=16$, magic $\\mathcal{N}=4$ and magic non-supersymmetric theories, obtained by dimensionally reducing the $D=4$ parent theories on a circle, with the graviphoton left undualised. In particular, the extremal intermediate non-reductive Lie algebra $\\tilde{\\mathfrak{e}}_{7(7)\\scriptscriptstyle{\\frac{1}{2}}}$ (which is not a subalgebra of $\\mathfrak{e}_{8(8)}$) is the non-compact global symmetry algebra of $D=3$, $\\mathcal{N}=16$ supergravity as obtained by dimensionally reducing $D=4$, $\\mathcal{N}=8$ supergravity with $\\mathfrak{e}_{7(7)}$ symmetry on a circle. The ternionic row (for appropriate choices of real forms) gives the non-compact global symmetries of the Lagrangian for $D=4$ maximal $\\mathcal{N}=8$ and magic $\\mathcal{N}=2$ supergravities obtained by dimensionally reducing the parent $D=5$ maximal $\\mathcal{N}=8$ and magic $\\mathcal{N}=2$ theories on a circle. In particular, the Kantor-Koecher-Tits intermediate non-reductive Lie algebra $\\mathfrak{e}_{6(6)\\scriptscriptstyle{\\frac{1}{4}}}$ is the non-compact global symmetry algebra of $D=4$, $\\mathcal{N}=8$ supergravity as obtained by dimensionally reducing $D=5$, $\\mathcal{N}=8$ supergravity with $\\mathfrak{e}_{6(6)}$ symmetry on a circle.\n",
      "id: 57633, score: 21.85, path: /tmp/arxiv/math.updates.on.arXiv.org/000955, text: We introduce the extended Freudenthal-Rosenfeld-Tits magic square based on six algebras: the reals $\\mathbb{R}$, complexes $\\mathbb{C}$, ternions $\\mathbb{T}$, quaternions $\\mathbb{H}$, sextonions $\\mathbb{S}$ and octonions $\\mathbb{O}$. The ternionic and sextonionic rows/columns of the magic square yield non-reductive Lie algebras, including $\\mathfrak{e}_{7\\scriptscriptstyle{\\frac{1}{2}}}$. It is demonstrated that the algebras of the extended magic square appear quite naturally as the symmetries of supergravity Lagrangians. The sextonionic row (for appropriate choices of real forms) gives the non-compact global symmetries of the Lagrangian for the $D=3$ maximal $\\mathcal{N}=16$, magic $\\mathcal{N}=4$ and magic non-supersymmetric theories, obtained by dimensionally reducing the $D=4$ parent theories on a circle, with the graviphoton left undualised. In particular, the extremal intermediate non-reductive Lie algebra $\\tilde{\\mathfrak{e}}_{7(7)\\scriptscriptstyle{\\frac{1}{2}}}$ (which is not a subalgebra of $\\mathfrak{e}_{8(8)}$) is the non-compact global symmetry algebra of $D=3$, $\\mathcal{N}=16$ supergravity as obtained by dimensionally reducing $D=4$, $\\mathcal{N}=8$ supergravity with $\\mathfrak{e}_{7(7)}$ symmetry on a circle. The ternionic row (for appropriate choices of real forms) gives the non-compact global symmetries of the Lagrangian for the $D=4$ maximal $\\mathcal{N}=8$, magic $\\mathcal{N}=2$ and magic non-supersymmetric theories obtained by dimensionally reducing the parent $D=5$ theories on a circle. In particular, the Kantor-Koecher-Tits intermediate non-reductive Lie algebra $\\mathfrak{e}_{6(6)\\scriptscriptstyle{\\frac{1}{4}}}$ is the non-compact global symmetry algebra of $D=4$, $\\mathcal{N}=8$ supergravity as obtained by dimensionally reducing $D=5$, $\\mathcal{N}=8$ supergravity with $\\mathfrak{e}_{6(6)}$ symmetry on a circle.\n",
      "id: 2594, score: 20.71, path: /tmp/arxiv/quant-ph.updates.on.arXiv.org/000992, text: Quantum computers capable of solving classically intractable problems are under construction, and intermediate-scale devices are approaching completion. Current efforts to design large-scale devices require allocating immense resources to error correction, with the majority dedicated to the production of high-fidelity ancillary states known as magic-states. Leading techniques focus on dedicating a large, contiguous region of the processor as a single \"magic-state distillation factory\" responsible for meeting the magic-state demands of applications. In this work we design and analyze a set of optimized factory architectural layouts that divide a single factory into spatially distributed factories located throughout the processor. We find that distributed factory architectures minimize the space-time volume overhead imposed by distillation. Additionally, we find that the number of distributed components in each optimal configuration is sensitive to application characteristics and underlying physical device error rates. More specifically, we find that the rate at which T-gates are demanded by an application has a significant impact on the optimal distillation architecture. We develop an optimization procedure that discovers the optimal number of factory distillation rounds and number of output magic states per factory, as well as an overall system architecture that interacts with the factories. This yields between a 10x and 20x resource reduction compared to commonly accepted single factory designs. Performance is analyzed across representative application classes such as quantum simulation and quantum chemistry.\n"
     ]
    }
   ],
   "source": [
    "# define your query with set of weighted terms\n",
    "weighted_terms = {\n",
    "    \"search\": 0.5,\n",
    "    \"magic\": 2.0,\n",
    "}\n",
    "\n",
    "# 3. build the 'should' clauses dynamically (behaves like an OR there are other options, too)\n",
    "clauses = [\n",
    "    {\"match\": {\"text\": {\"query\": term, \"boost\": weight}}}  # field to search over\n",
    "    for term, weight in weighted_terms.items()\n",
    "]\n",
    "\n",
    "for clause_type in ['must', 'should']:\n",
    "    print()\n",
    "    print(f\"query type with {clause_type} clauses\")\n",
    "\n",
    "    # construct the final bool query from set of weighted terms\n",
    "    es_query = {\"bool\": {clause_type: clauses}}\n",
    "\n",
    "    # execute the search\n",
    "    response = client.search(index=\"arxiv\", query=es_query, track_total_hits=True)\n",
    "\n",
    "    # Print the results\n",
    "    print(f\"Found {response['hits']['total']['value']} documents.\")\n",
    "    for hit in response[\"hits\"][\"hits\"][:10]:\n",
    "        print(f\"id: {hit['_id']}, score: {hit['_score']:.2f}, path: {hit['_source']['path']}, text: {hit['_source'].get('text')}\")"
   ]
  },
  {
   "cell_type": "markdown",
   "metadata": {},
   "source": [
    "## 2. Excruciatingly slow search\n",
    "\n",
    "In class we have presented a _slow_ version of search that, given a search query $q$, loops over every document in the database\n",
    "computing the cosine similarity between document and query. Once this is done, it sorts documents by their similarity w.r.t. $q$ and returns the top $r$\n",
    "scoring ones. \n",
    "\n",
    "```\n",
    "1. for each d in D:\n",
    "    sim(d,q) = 0\n",
    "    get vector representing d\n",
    "    for each w in q:\n",
    "        sim(d,q) += tf(d,w) * idf(w)\n",
    "    normalize sim(d,q) by |d|*|q|\n",
    "2. sort results by similarity\n",
    "3. return top r docs\n",
    "```\n",
    "\n",
    "A possible implementation can be found below. \n",
    "\n",
    "__Remark:__ _It is important to note that there are certain elements in the implementation below that refer to my own\n",
    "implementation, and that you should adapt to your own; in particular, the line_\n",
    "\n",
    "```    weights = dict(normalize(tf_idf(s['_id'])))   # gets weights as a python dict of term -> weight ```\n",
    "\n",
    "_obtains tf-idf weights through calling a function `tf_idf` that I have implemented that, given a docid, returns a list of pairs (term, weight); and `normalize` takes such a list a normalizes weights so that the corresponding vector has length 1. \n",
    "Obviously, you should adapt the code to your own implementations from previous sessions._\n"
   ]
  },
  {
   "cell_type": "code",
   "execution_count": 4,
   "metadata": {},
   "outputs": [],
   "source": [
    "# get tf-idf vector from doc (internal) id\n",
    "def tf_idf(doc_id):\n",
    "    # does nothing, adapt to your needs\n",
    "    return []\n",
    "\n",
    "\n",
    "# normalizes weights so that resulting vec has length 1\n",
    "def normalize(l1):\n",
    "    # does nothing, adapt to your needs\n",
    "    return l1"
   ]
  },
  {
   "cell_type": "code",
   "execution_count": 6,
   "metadata": {},
   "outputs": [
    {
     "name": "stdout",
     "output_type": "stream",
     "text": [
      "Executing search of query string 'searching magic' with tokens ['search', 'magic'] over documents on index 'arxiv'\n"
     ]
    },
    {
     "name": "stderr",
     "output_type": "stream",
     "text": [
      "100%|██████████| 58102/58102 [05:16<00:00, 183.40it/s]"
     ]
    },
    {
     "name": "stdout",
     "output_type": "stream",
     "text": [
      "[('/tmp/arxiv/quant-ph.updates.on.arXiv.org/000650', 0.48414571794832034),\n",
      " ('/tmp/arxiv/quant-ph.updates.on.arXiv.org/000677', 0.48398173888285334),\n",
      " ('/tmp/arxiv/cond-mat.updates.on.arXiv.org/003482', 0.40785421291301327),\n",
      " ('/tmp/arxiv/quant-ph.updates.on.arXiv.org/001475', 0.3820009591489745),\n",
      " ('/tmp/arxiv/cs.updates.on.arXiv.org/011698', 0.376956777527646),\n",
      " ('/tmp/arxiv/math.updates.on.arXiv.org/005456', 0.376956777527646),\n",
      " ('/tmp/arxiv/cs.updates.on.arXiv.org/011662', 0.37068255109550013),\n",
      " ('/tmp/arxiv/cs.updates.on.arXiv.org/017625', 0.36622671649288313),\n",
      " ('/tmp/arxiv/cs.updates.on.arXiv.org/004338', 0.3350771102927692),\n",
      " ('/tmp/arxiv/cs.updates.on.arXiv.org/001974', 0.31653854565224787)]\n"
     ]
    },
    {
     "name": "stderr",
     "output_type": "stream",
     "text": [
      "\n"
     ]
    }
   ],
   "source": [
    "from elasticsearch.helpers import scan\n",
    "from pprint import pprint\n",
    "from elasticsearch import Elasticsearch\n",
    "import tqdm\n",
    "import numpy as np\n",
    "\n",
    "\n",
    "def preprocess_query_string(query_string, client, index_name, field_name):\n",
    "    \"\"\"\n",
    "    given query string it outputs the list of preprocessed tokens from it\n",
    "    using same analyzer (preprocessing pipeline) than the arxiv abstracts\n",
    "    \"\"\"\n",
    "\n",
    "    # Use the analyze API on the specified index\n",
    "    response = client.indices.analyze(\n",
    "        index=index_name, field=field_name, text=query_string\n",
    "    )\n",
    "\n",
    "    # Extract just the token strings from the response\n",
    "    preprocessed_terms = [token_info[\"token\"] for token_info in response[\"tokens\"]]\n",
    "\n",
    "    # print(f\"Original string: '{query_string}'\")\n",
    "    # print(f\"Preprocessed terms: {preprocessed_terms}\")\n",
    "    return preprocessed_terms\n",
    "\n",
    "\n",
    "client = Elasticsearch(\"http://localhost:9200\", request_timeout=1000)\n",
    "\n",
    "r = 10  # only return r top docs\n",
    "# query will be list of tokens, preprocessed like the indexed arxiv articles\n",
    "query_str = \"searching magic\"\n",
    "query_tokens = preprocess_query_string(\n",
    "    query_string=query_str, client=client, index_name=\"arxiv\", field_name=\"text\"\n",
    ")\n",
    "\n",
    "print(f\"Executing search of query string '{query_str}' with tokens {query_tokens} over documents on index 'arxiv'\")\n",
    "sims = dict()\n",
    "\n",
    "l2query = np.sqrt(len(query_tokens))  # l2 of query assuming 0-1 vector representation\n",
    "\n",
    "# get nr. of docs; just for the progress bar\n",
    "ndocs = int(client.cat.count(index=\"arxiv\", format=\"json\")[0][\"count\"])\n",
    "\n",
    "# scan through docs, compute cosine sim between query and each doc\n",
    "for s in tqdm.tqdm(\n",
    "    scan(client, index=\"arxiv\", query={\"query\": {\"match_all\": {}}}), total=ndocs\n",
    "):\n",
    "\n",
    "    docid = s[\"_source\"][\"path\"]  # use path as id\n",
    "    weights = dict(\n",
    "        normalize(tf_idf(s[\"_id\"]))\n",
    "    )  # gets weights as a python dict of term -> weight (see remark above)\n",
    "    sims[docid] = 0.0\n",
    "    for w in query_tokens:  # gets terms as a list\n",
    "        if (\n",
    "            w in weights\n",
    "        ):  \n",
    "            sims[docid] += weights[w]  # accumulates if w in current doc\n",
    "    # normalize sim\n",
    "    sims[docid] /= l2query\n",
    "\n",
    "# now sort by cosine similarity\n",
    "sorted_answer = sorted(sims.items(), key=lambda kv: kv[1], reverse=True)\n",
    "pprint(sorted_answer[:r])"
   ]
  },
  {
   "cell_type": "code",
   "execution_count": 7,
   "metadata": {},
   "outputs": [
    {
     "name": "stdout",
     "output_type": "stream",
     "text": [
      "There are 3492 docs with non-zero similarity out of 58102, i.e. 6.0%\n"
     ]
    }
   ],
   "source": [
    "nz = len([x for x, s in sorted_answer if s > 0])\n",
    "total = len(sorted_answer)\n",
    "print(\n",
    "    f\"There are {nz} docs with non-zero similarity out of {total}, i.e. {100.0*nz/total:.1f}%\"\n",
    ")"
   ]
  },
  {
   "cell_type": "markdown",
   "metadata": {},
   "source": [
    "## 3. Your tasks\n",
    "\n",
    "---\n",
    "\n",
    "**Exercise 1:**  \n",
    "\n",
    "Make sure you understand the algorithm for implementing search described in the lecture notes. Both slow and efficient versions. Describe\n",
    "the number of operations you need to do in both slow and quick versions for the following toy example with a vocabulary of size 4 and four documents:\n",
    "\n",
    "- $q = 0,1,1,0$\n",
    "\n",
    "- document-term matrix:\n",
    "<center>\n",
    "\n",
    "\n",
    "|        | t1  | t2  | t3  | t4  |\n",
    "|--------|-----|-----|-----|-----|\n",
    "| **d1** | 1.2 | 0.0 | 0.0 | 0.0 |\n",
    "| **d2** | 0.7 | 0.3 | 1.5 | 0.1 |\n",
    "| **d3** | 0.0 | 0.0 | 0.0 | 0.7 |\n",
    "| **d4** | 2.0 | 0.0 | 0.0 | 0.0 |\n",
    "\n",
    "</center>\n",
    "\n",
    "---\n",
    "\n",
    "**Exercise 2:**\n",
    "\n",
    "Implement the quick version; run both slow and quick versions and report times (as a reference, in my old laptop it takes around 5m20s to run the slow version in the code above). Make sure both versions return the same answer. Note that you will need to build an inverted index in order to implement the efficient version as explained in class; it may take time but this is done once for all queries, and can be done \"off-line\". Also, you could improve on the code by implementing the top-$r$ sort of the final answer using\n",
    "the minheap tree as discussed in class. Python has a minheap built-in implementation called `heapq`.\n",
    "\n",
    "---\n",
    "\n",
    "**Exercise 3:**\n",
    "\n",
    "Compare the results for a few sample queries that you get from your quick version and ElasticSearch search. Do you get similar results? Which is faster?\n",
    "\n",
    "---"
   ]
  },
  {
   "cell_type": "markdown",
   "metadata": {},
   "source": [
    "## 4. Rules of delivery\n",
    "\n",
    "- To be solved in _pairs_.\n",
    "\n",
    "- No plagiarism; don't discuss your work with other teams. You can ask for help to others for simple things, such as recalling a python instruction or module, but nothing too specific to the session.\n",
    "\n",
    "- If you feel you are spending much more time than the rest of the classmates, ask us for help. Questions can be asked either in person or by email, and you'll never be penalized by asking questions, no matter how stupid they look in retrospect.\n",
    "\n",
    "- Write a short report listing the solutions to the exercises proposed. Include things like the important parts of your implementation (data structures used for representing objects, algorithms used, etc). You are welcome to add conclusions and findings that depart from what we asked you to do. We encourage you to discuss the difficulties you find; this lets us give you help and also improve the lab session for future editions.\n",
    "\n",
    "- Turn the report to PDF. Make sure it has your names, date, and title. Include your code in your submission.\n",
    "\n",
    "- Submit your work through the [raco](http://www.fib.upc.edu/en/serveis/raco.html); see date at the raco's submissions page."
   ]
  },
  {
   "cell_type": "markdown",
   "metadata": {},
   "source": []
  }
 ],
 "metadata": {
  "kernelspec": {
   "display_name": "base",
   "language": "python",
   "name": "python3"
  },
  "language_info": {
   "codemirror_mode": {
    "name": "ipython",
    "version": 3
   },
   "file_extension": ".py",
   "mimetype": "text/x-python",
   "name": "python",
   "nbconvert_exporter": "python",
   "pygments_lexer": "ipython3",
   "version": "3.10.16"
  },
  "latex_envs": {
   "LaTeX_envs_menu_present": true,
   "autoclose": false,
   "autocomplete": true,
   "bibliofile": "biblio.bib",
   "cite_by": "apalike",
   "current_citInitial": 1,
   "eqLabelWithNumbers": true,
   "eqNumInitial": 1,
   "hotkeys": {
    "equation": "Ctrl-E",
    "itemize": "Ctrl-I"
   },
   "labels_anchors": false,
   "latex_user_defs": false,
   "report_style_numbering": false,
   "user_envs_cfg": false
  },
  "toc": {
   "nav_menu": {
    "height": "81px",
    "width": "252px"
   },
   "number_sections": true,
   "sideBar": true,
   "skip_h1_title": false,
   "toc_cell": false,
   "toc_position": {},
   "toc_section_display": "block",
   "toc_window_display": false
  }
 },
 "nbformat": 4,
 "nbformat_minor": 4
}
